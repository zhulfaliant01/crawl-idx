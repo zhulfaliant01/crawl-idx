{
 "cells": [
  {
   "cell_type": "code",
   "execution_count": null,
   "metadata": {},
   "outputs": [],
   "source": [
    "from curl_cffi import requests\n",
    "\n",
    "url = \"https://www.idx.co.id/primary/ListedCompany/GetFinancialReport\"\n",
    "\n",
    "querystring = {\n",
    "    \"indexFrom\": \"1\",\n",
    "    \"pageSize\": \"12\",\n",
    "    \"year\": \"2024\",\n",
    "    \"reportType\": \"rdf\",\n",
    "    \"EmitenType\": \"s\",\n",
    "    \"periode\": \"tw1\",\n",
    "    \"kodeEmiten\": \"\",\n",
    "    \"SortColumn\": \"KodeEmiten\",\n",
    "    \"SortOrder\": \"asc\",\n",
    "}\n",
    "\n",
    "payload = \"\"\n",
    "headers = {\n",
    "    \"cookie\": \"__cf_bm=3mRGj1FiS7.RkWBq_e.8eNliOtNpjE3pk7yqv8y7ZLA-1735981590-1.0.1.1-FcqyHLUoPgrpGXFAWO02nAAF_QrlYbeJC98cXOGxSjEAipy4bA681.kor4PPpXn_QZA0fgAXLlS84M8gURf3Yw; _cfuvid=z0fgoI3EDtbT.slkZYpsyf.hvFOrnEzt2fox.Li87B0-1735981590440-0.0.1.1-604800000; auth.strategy=local; _gid=GA1.3.497937436.1735981590; EGRUM=s=1735981591716&r=https%3A%2F%2Fwww.idx.co.id%2Fid; _ga_VDBWS0BLZR=GS1.1.1735981590.1.1.1735981862.0.0.0; _ga=GA1.1.1307342084.1735981590\",\n",
    "    \"accept\": \"application/json, text/plain, */*\",\n",
    "    \"accept-language\": \"en-US,en;q=0.9\",\n",
    "    \"priority\": \"u=1, i\",\n",
    "    \"referer\": \"https://www.idx.co.id/id/perusahaan-tercatat/laporan-keuangan-dan-tahunan\",\n",
    "    \"sec-ch-ua\": '\"Chromium\";v=\"130\", \"Opera\";v=\"115\", \"Not?A_Brand\";v=\"99\"',\n",
    "    \"sec-ch-ua-mobile\": \"?0\",\n",
    "    \"sec-ch-ua-platform\": '\"Windows\"',\n",
    "    \"sec-fetch-dest\": \"empty\",\n",
    "    \"sec-fetch-mode\": \"cors\",\n",
    "    \"sec-fetch-site\": \"same-origin\",\n",
    "    \"user-agent\": \"Mozilla/5.0 (Windows NT 10.0; Win64; x64) AppleWebKit/537.36 (KHTML, like Gecko) Chrome/130.0.0.0 Safari/537.36 OPR/115.0.0.0\",\n",
    "}\n",
    "\n",
    "response = requests.request(\n",
    "    \"GET\", url, data=payload, headers=headers, params=querystring\n",
    ")\n",
    "\n",
    "print(response.text)"
   ]
  }
 ],
 "metadata": {
  "kernelspec": {
   "display_name": ".venv",
   "language": "python",
   "name": "python3"
  },
  "language_info": {
   "name": "python",
   "version": "3.13.1"
  }
 },
 "nbformat": 4,
 "nbformat_minor": 2
}
